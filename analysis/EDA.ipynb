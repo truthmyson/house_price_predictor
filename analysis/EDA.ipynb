{
 "cells": [
  {
   "cell_type": "code",
   "execution_count": null,
   "id": "a7a770bd",
   "metadata": {},
   "outputs": [],
   "source": [
    "import sys\n",
    "import os\n",
    "\n",
    "# Add the parent directory to sys.path so local modules can be imported\n",
    "sys.path.append(os.path.abspath(os.path.join(os.getcwd(), \"..\")))\n",
    "\n",
    "from _src.data_ingestion import SelectDataIngestor, ZipfileDataIngestor\n",
    "from data_inspection import DataInspectorSelector, SummaryDataInspectionStrategy\n",
    "from missing_values_analysis import MissingValueAnalyzer, MissingValuesAnalysis\n",
    "from univariante_analysis import SelectorUnivarianeAnalyzer\n",
    "from bivariante_analysis import SelectorBivarianeAnalyzer\n",
    "from multivariante_analysis import SelectMUltivarianteAnalyzer, NumericalMultivarianteAnalysis\n",
    "\n",
    "from _src.feature_engineering import selectFeatureEngineeringStrtegy, x_FetureEngineering, y_FetureEngineering\n",
    "from _src.data_splitting import SelectSplitter, TestTrainSplit"
   ]
  },
  {
   "cell_type": "code",
   "execution_count": null,
   "id": "f85df08a",
   "metadata": {},
   "outputs": [],
   "source": [
    "# data ingestion\n",
    "ingestor = SelectDataIngestor()\n",
    "ingestor.set_ingestor(ZipfileDataIngestor)\n",
    "df = ingestor.execute_ingestor('data/zip_data/archive.zip')\n"
   ]
  },
  {
   "cell_type": "code",
   "execution_count": null,
   "id": "3b44c418",
   "metadata": {},
   "outputs": [],
   "source": [
    "# data inspection and summary\n",
    "inspector = DataInspectorSelector()\n",
    "inspector.set_strategy(SummaryDataInspectionStrategy)\n",
    "inspector.execute_stratgy(df)"
   ]
  },
  {
   "cell_type": "markdown",
   "id": "42a23765",
   "metadata": {},
   "source": [
    "DATA SUMMARY\n",
    "\n",
    "The dataset contains 13 distinct features with 6 of them being numeric and 7 of them being objects.\n",
    "1. numeric features include : price, area, bedrooms, stories, parking  \n",
    "2. categorical features include : mainroom, guestroom, basement, hotwaterheating, airconditionning, prefarea, furnishingstatus\n",
    "3. the data set has it target feature to be \"price\"\n"
   ]
  },
  {
   "cell_type": "code",
   "execution_count": null,
   "id": "98e74a98",
   "metadata": {},
   "outputs": [],
   "source": [
    "# missing values and duplicates\n",
    "analyzer = MissingValueAnalyzer()\n",
    "analyzer.set_analyzer(MissingValuesAnalysis)\n",
    "analyzer.execute_analyzer(df)"
   ]
  },
  {
   "cell_type": "markdown",
   "id": "a88de004",
   "metadata": {},
   "source": [
    "MISSING VALUES AND DUPLICATES\n",
    "\n",
    "Our data set has no missing values and no duplicates."
   ]
  },
  {
   "cell_type": "code",
   "execution_count": null,
   "id": "40007c5c",
   "metadata": {},
   "outputs": [],
   "source": [
    "# univariante analysis\n",
    "analyzer = SelectorUnivarianeAnalyzer()\n",
    "columns = ['price','area','bedrooms','bathrooms','stories','mainroad','guestroom','basement','hotwaterheating','airconditioning','parking','prefarea','furnishingstatus']\n",
    "for column in columns:\n",
    "    col_type = df[column].dtype\n",
    "    analyzer.execute_analyzer(df, column, col_type)"
   ]
  },
  {
   "cell_type": "markdown",
   "id": "24526b46",
   "metadata": {},
   "source": [
    "UNIVARIANTE ANALYSIS ON TEH DATASET\n",
    "\n",
    "From the graph (histogram) plotting, and with the use of pandas skew function most of numerical feature is skew to the right. \n",
    "1. The bedroom only has a value of skewness close to the normal skewness, skewness < 0.5\n",
    "2. The rest of the numeric features has skewness further away from the normal skewness, skewness > 0.8\n",
    "\n",
    "We will tackle this skewness:\n",
    "1. we will leverage otheer methods like the log function to reshape them to a normally skewed, to avoid bias in the model \n",
    "2. we will also performed feature engineering with most of the object featured since they contain only 2 or at mosst 3 unique values\n",
    "\n",
    "some of the skewed variables haviing skewness above '1.2' include\n",
    "1. price variable\n",
    "2. area variable\n",
    "3. bathrooms variable"
   ]
  },
  {
   "cell_type": "code",
   "execution_count": null,
   "id": "9f544a1f",
   "metadata": {},
   "outputs": [],
   "source": [
    "# fix skewness\n",
    "strategy = selectFeatureEngineeringStrtegy()\n",
    "strategy.set_strategy(PowerTransformation)\n",
    "df = strategy.execute_strategy(df=df,columns=['price','area','parking','stories','bathrooms'])"
   ]
  },
  {
   "cell_type": "code",
   "execution_count": null,
   "id": "610ada0e",
   "metadata": {},
   "outputs": [],
   "source": [
    "# univariante analysis ---- second test\n",
    "analyzer = SelectorUnivarianeAnalyzer()\n",
    "columns = ['price','area','bedrooms','bathrooms','stories','mainroad','guestroom','basement','hotwaterheating','airconditioning','parking','prefarea','furnishingstatus']\n",
    "for column in columns:\n",
    "    col_type = df[column].dtype\n",
    "    analyzer.execute_analyzer(df, column, col_type)"
   ]
  },
  {
   "cell_type": "code",
   "execution_count": null,
   "id": "a017861c",
   "metadata": {},
   "outputs": [],
   "source": [
    "# one hot encoding\n",
    "strategy = selectFeatureEngineeringStrtegy()\n",
    "strategy.set_strategy(OneHotEncodingTransformation)\n",
    "df = strategy.execute_strategy(df=df,columns=['mainroad','guestroom','airconditioning','hotwaterheating','basement','prefarea','furnishingstatus'])"
   ]
  },
  {
   "cell_type": "code",
   "execution_count": null,
   "id": "9b833055",
   "metadata": {},
   "outputs": [],
   "source": [
    "# handle outliers\n",
    "strategy = selectFeatureEngineeringStrtegy()\n",
    "strategy.set_strategy(RobustScalerTransformation)\n",
    "df = strategy.execute_strategy(df=df,columns=['price','area','parking','stories','bathrooms','bedrooms'])"
   ]
  },
  {
   "cell_type": "code",
   "execution_count": null,
   "id": "d4a91216",
   "metadata": {},
   "outputs": [],
   "source": [
    "# now lets standardize the data using standard scaling\n",
    "strategy = selectFeatureEngineeringStrtegy()\n",
    "strategy.set_strategy(StandardScalerTransformation)\n",
    "df = strategy.execute_strategy(df=df)"
   ]
  },
  {
   "cell_type": "code",
   "execution_count": null,
   "id": "e154c836",
   "metadata": {},
   "outputs": [],
   "source": []
  },
  {
   "cell_type": "code",
   "execution_count": null,
   "id": "3ebd169f",
   "metadata": {},
   "outputs": [],
   "source": []
  },
  {
   "cell_type": "code",
   "execution_count": null,
   "id": "d925dd95",
   "metadata": {},
   "outputs": [],
   "source": [
    "# bivariante analysis\n",
    "analyzer = SelectorBivarianeAnalyzer()\n",
    "columns = df.columns.tolist()\n",
    "for column in columns:\n",
    "    col_type = df[column].dtype\n",
    "    analyzer.execute_analyzer(df, column, \"price\", col_type)"
   ]
  },
  {
   "cell_type": "markdown",
   "id": "962bb79a",
   "metadata": {},
   "source": [
    "BIVARIANTE ANALYSIS\n",
    "\n",
    "Almost all the features with respect to 'price' have a lot of outleirs. This if not checked will affect the model performance.\n",
    "\n",
    "SOLUTION\n",
    "\n",
    "we will explore the outlers and decide to eliminate our trnsform them."
   ]
  },
  {
   "cell_type": "code",
   "execution_count": null,
   "id": "2760044d",
   "metadata": {},
   "outputs": [],
   "source": [
    "df"
   ]
  },
  {
   "cell_type": "code",
   "execution_count": null,
   "id": "05699987",
   "metadata": {},
   "outputs": [],
   "source": [
    "# multivariante analysis\n",
    "analyzer = SelectMUltivarianteAnalyzer()\n",
    "analyzer.set_analyzer(NumericalMultivarianteAnalysis)\n",
    "analyzer.execute_nalyzer(df)"
   ]
  },
  {
   "cell_type": "markdown",
   "id": "a2826ea4",
   "metadata": {},
   "source": [
    "MULTIVARIANCE ANALSIS\n",
    "\n",
    "we would check for the existens of multicollinearity, that is if some pair of variables have very high correlation between them which could cause over fitting or model problem.\n",
    "\n",
    "1. the correlation value between all our variables is between 0 and 0.6 indicating we have a good correlation for our model\n",
    "2. THe pair plot indicates outliers between area and price variables, which we need to address"
   ]
  }
 ],
 "metadata": {
  "kernelspec": {
   "display_name": ".venv (3.13.7)",
   "language": "python",
   "name": "python3"
  },
  "language_info": {
   "codemirror_mode": {
    "name": "ipython",
    "version": 3
   },
   "file_extension": ".py",
   "mimetype": "text/x-python",
   "name": "python",
   "nbconvert_exporter": "python",
   "pygments_lexer": "ipython3",
   "version": "3.13.7"
  }
 },
 "nbformat": 4,
 "nbformat_minor": 5
}
